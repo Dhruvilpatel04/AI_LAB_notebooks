{
  "nbformat": 4,
  "nbformat_minor": 0,
  "metadata": {
    "colab": {
      "provenance": [],
      "authorship_tag": "ABX9TyPvLINGyzQ0x2yJqDY5CYke",
      "include_colab_link": true
    },
    "kernelspec": {
      "name": "python3",
      "display_name": "Python 3"
    },
    "language_info": {
      "name": "python"
    },
    "accelerator": "GPU",
    "gpuClass": "standard"
  },
  "cells": [
    {
      "cell_type": "markdown",
      "metadata": {
        "id": "view-in-github",
        "colab_type": "text"
      },
      "source": [
        "<a href=\"https://colab.research.google.com/github/Dhruvilpatel04/AI_LAB_notebooks/blob/main/MutliclassClassification.ipynb\" target=\"_parent\"><img src=\"https://colab.research.google.com/assets/colab-badge.svg\" alt=\"Open In Colab\"/></a>"
      ]
    },
    {
      "cell_type": "code",
      "execution_count": null,
      "metadata": {
        "id": "Xw4EsxH2zfbJ"
      },
      "outputs": [],
      "source": [
        "import numpy as np\n",
        "import pandas as pd\n",
        "import matplotlib.pyplot as plt\n",
        "import tensorflow as tf\n",
        "import seaborn as sns"
      ]
    },
    {
      "cell_type": "code",
      "source": [
        "from google.colab import drive\n",
        "drive.mount('/content/drive')"
      ],
      "metadata": {
        "colab": {
          "base_uri": "https://localhost:8080/"
        },
        "id": "KTr3kj_Uzlsu",
        "outputId": "7cfa99d0-0166-45da-e88b-385701c00922"
      },
      "execution_count": null,
      "outputs": [
        {
          "output_type": "stream",
          "name": "stdout",
          "text": [
            "Drive already mounted at /content/drive; to attempt to forcibly remount, call drive.mount(\"/content/drive\", force_remount=True).\n"
          ]
        }
      ]
    },
    {
      "cell_type": "code",
      "source": [
        "data = pd.read_csv('/content/drive/MyDrive/Iris.csv')\n",
        "data.head()"
      ],
      "metadata": {
        "colab": {
          "base_uri": "https://localhost:8080/",
          "height": 206
        },
        "id": "2oHltWOGzxeV",
        "outputId": "6a95c16b-0c79-4da2-b39f-b0f51b0f4cf6"
      },
      "execution_count": null,
      "outputs": [
        {
          "output_type": "execute_result",
          "data": {
            "text/plain": [
              "   Id  SepalLengthCm  SepalWidthCm  PetalLengthCm  PetalWidthCm      Species\n",
              "0   1            5.1           3.5            1.4           0.2  Iris-setosa\n",
              "1   2            4.9           3.0            1.4           0.2  Iris-setosa\n",
              "2   3            4.7           3.2            1.3           0.2  Iris-setosa\n",
              "3   4            4.6           3.1            1.5           0.2  Iris-setosa\n",
              "4   5            5.0           3.6            1.4           0.2  Iris-setosa"
            ],
            "text/html": [
              "\n",
              "  <div id=\"df-85383b18-4c60-4890-af39-f03e206936a8\">\n",
              "    <div class=\"colab-df-container\">\n",
              "      <div>\n",
              "<style scoped>\n",
              "    .dataframe tbody tr th:only-of-type {\n",
              "        vertical-align: middle;\n",
              "    }\n",
              "\n",
              "    .dataframe tbody tr th {\n",
              "        vertical-align: top;\n",
              "    }\n",
              "\n",
              "    .dataframe thead th {\n",
              "        text-align: right;\n",
              "    }\n",
              "</style>\n",
              "<table border=\"1\" class=\"dataframe\">\n",
              "  <thead>\n",
              "    <tr style=\"text-align: right;\">\n",
              "      <th></th>\n",
              "      <th>Id</th>\n",
              "      <th>SepalLengthCm</th>\n",
              "      <th>SepalWidthCm</th>\n",
              "      <th>PetalLengthCm</th>\n",
              "      <th>PetalWidthCm</th>\n",
              "      <th>Species</th>\n",
              "    </tr>\n",
              "  </thead>\n",
              "  <tbody>\n",
              "    <tr>\n",
              "      <th>0</th>\n",
              "      <td>1</td>\n",
              "      <td>5.1</td>\n",
              "      <td>3.5</td>\n",
              "      <td>1.4</td>\n",
              "      <td>0.2</td>\n",
              "      <td>Iris-setosa</td>\n",
              "    </tr>\n",
              "    <tr>\n",
              "      <th>1</th>\n",
              "      <td>2</td>\n",
              "      <td>4.9</td>\n",
              "      <td>3.0</td>\n",
              "      <td>1.4</td>\n",
              "      <td>0.2</td>\n",
              "      <td>Iris-setosa</td>\n",
              "    </tr>\n",
              "    <tr>\n",
              "      <th>2</th>\n",
              "      <td>3</td>\n",
              "      <td>4.7</td>\n",
              "      <td>3.2</td>\n",
              "      <td>1.3</td>\n",
              "      <td>0.2</td>\n",
              "      <td>Iris-setosa</td>\n",
              "    </tr>\n",
              "    <tr>\n",
              "      <th>3</th>\n",
              "      <td>4</td>\n",
              "      <td>4.6</td>\n",
              "      <td>3.1</td>\n",
              "      <td>1.5</td>\n",
              "      <td>0.2</td>\n",
              "      <td>Iris-setosa</td>\n",
              "    </tr>\n",
              "    <tr>\n",
              "      <th>4</th>\n",
              "      <td>5</td>\n",
              "      <td>5.0</td>\n",
              "      <td>3.6</td>\n",
              "      <td>1.4</td>\n",
              "      <td>0.2</td>\n",
              "      <td>Iris-setosa</td>\n",
              "    </tr>\n",
              "  </tbody>\n",
              "</table>\n",
              "</div>\n",
              "      <button class=\"colab-df-convert\" onclick=\"convertToInteractive('df-85383b18-4c60-4890-af39-f03e206936a8')\"\n",
              "              title=\"Convert this dataframe to an interactive table.\"\n",
              "              style=\"display:none;\">\n",
              "        \n",
              "  <svg xmlns=\"http://www.w3.org/2000/svg\" height=\"24px\"viewBox=\"0 0 24 24\"\n",
              "       width=\"24px\">\n",
              "    <path d=\"M0 0h24v24H0V0z\" fill=\"none\"/>\n",
              "    <path d=\"M18.56 5.44l.94 2.06.94-2.06 2.06-.94-2.06-.94-.94-2.06-.94 2.06-2.06.94zm-11 1L8.5 8.5l.94-2.06 2.06-.94-2.06-.94L8.5 2.5l-.94 2.06-2.06.94zm10 10l.94 2.06.94-2.06 2.06-.94-2.06-.94-.94-2.06-.94 2.06-2.06.94z\"/><path d=\"M17.41 7.96l-1.37-1.37c-.4-.4-.92-.59-1.43-.59-.52 0-1.04.2-1.43.59L10.3 9.45l-7.72 7.72c-.78.78-.78 2.05 0 2.83L4 21.41c.39.39.9.59 1.41.59.51 0 1.02-.2 1.41-.59l7.78-7.78 2.81-2.81c.8-.78.8-2.07 0-2.86zM5.41 20L4 18.59l7.72-7.72 1.47 1.35L5.41 20z\"/>\n",
              "  </svg>\n",
              "      </button>\n",
              "      \n",
              "  <style>\n",
              "    .colab-df-container {\n",
              "      display:flex;\n",
              "      flex-wrap:wrap;\n",
              "      gap: 12px;\n",
              "    }\n",
              "\n",
              "    .colab-df-convert {\n",
              "      background-color: #E8F0FE;\n",
              "      border: none;\n",
              "      border-radius: 50%;\n",
              "      cursor: pointer;\n",
              "      display: none;\n",
              "      fill: #1967D2;\n",
              "      height: 32px;\n",
              "      padding: 0 0 0 0;\n",
              "      width: 32px;\n",
              "    }\n",
              "\n",
              "    .colab-df-convert:hover {\n",
              "      background-color: #E2EBFA;\n",
              "      box-shadow: 0px 1px 2px rgba(60, 64, 67, 0.3), 0px 1px 3px 1px rgba(60, 64, 67, 0.15);\n",
              "      fill: #174EA6;\n",
              "    }\n",
              "\n",
              "    [theme=dark] .colab-df-convert {\n",
              "      background-color: #3B4455;\n",
              "      fill: #D2E3FC;\n",
              "    }\n",
              "\n",
              "    [theme=dark] .colab-df-convert:hover {\n",
              "      background-color: #434B5C;\n",
              "      box-shadow: 0px 1px 3px 1px rgba(0, 0, 0, 0.15);\n",
              "      filter: drop-shadow(0px 1px 2px rgba(0, 0, 0, 0.3));\n",
              "      fill: #FFFFFF;\n",
              "    }\n",
              "  </style>\n",
              "\n",
              "      <script>\n",
              "        const buttonEl =\n",
              "          document.querySelector('#df-85383b18-4c60-4890-af39-f03e206936a8 button.colab-df-convert');\n",
              "        buttonEl.style.display =\n",
              "          google.colab.kernel.accessAllowed ? 'block' : 'none';\n",
              "\n",
              "        async function convertToInteractive(key) {\n",
              "          const element = document.querySelector('#df-85383b18-4c60-4890-af39-f03e206936a8');\n",
              "          const dataTable =\n",
              "            await google.colab.kernel.invokeFunction('convertToInteractive',\n",
              "                                                     [key], {});\n",
              "          if (!dataTable) return;\n",
              "\n",
              "          const docLinkHtml = 'Like what you see? Visit the ' +\n",
              "            '<a target=\"_blank\" href=https://colab.research.google.com/notebooks/data_table.ipynb>data table notebook</a>'\n",
              "            + ' to learn more about interactive tables.';\n",
              "          element.innerHTML = '';\n",
              "          dataTable['output_type'] = 'display_data';\n",
              "          await google.colab.output.renderOutput(dataTable, element);\n",
              "          const docLink = document.createElement('div');\n",
              "          docLink.innerHTML = docLinkHtml;\n",
              "          element.appendChild(docLink);\n",
              "        }\n",
              "      </script>\n",
              "    </div>\n",
              "  </div>\n",
              "  "
            ]
          },
          "metadata": {},
          "execution_count": 24
        }
      ]
    },
    {
      "cell_type": "code",
      "source": [
        "x = data.drop('Species', axis =1)\n",
        "y = data['Species']"
      ],
      "metadata": {
        "id": "EHjKV-pG0FgL"
      },
      "execution_count": null,
      "outputs": []
    },
    {
      "cell_type": "code",
      "source": [
        "from sklearn.preprocessing import LabelEncoder\n",
        "en = LabelEncoder()\n",
        "y = en.fit_transform(y)"
      ],
      "metadata": {
        "id": "weQkvGy20YEp"
      },
      "execution_count": null,
      "outputs": []
    },
    {
      "cell_type": "code",
      "source": [
        "y"
      ],
      "metadata": {
        "colab": {
          "base_uri": "https://localhost:8080/"
        },
        "id": "VDLoEZDe0nud",
        "outputId": "3d4837ed-6575-497d-876a-ebf5aae927a6"
      },
      "execution_count": null,
      "outputs": [
        {
          "output_type": "execute_result",
          "data": {
            "text/plain": [
              "array([0, 0, 0, 0, 0, 0, 0, 0, 0, 0, 0, 0, 0, 0, 0, 0, 0, 0, 0, 0, 0, 0,\n",
              "       0, 0, 0, 0, 0, 0, 0, 0, 0, 0, 0, 0, 0, 0, 0, 0, 0, 0, 0, 0, 0, 0,\n",
              "       0, 0, 0, 0, 0, 0, 1, 1, 1, 1, 1, 1, 1, 1, 1, 1, 1, 1, 1, 1, 1, 1,\n",
              "       1, 1, 1, 1, 1, 1, 1, 1, 1, 1, 1, 1, 1, 1, 1, 1, 1, 1, 1, 1, 1, 1,\n",
              "       1, 1, 1, 1, 1, 1, 1, 1, 1, 1, 1, 1, 2, 2, 2, 2, 2, 2, 2, 2, 2, 2,\n",
              "       2, 2, 2, 2, 2, 2, 2, 2, 2, 2, 2, 2, 2, 2, 2, 2, 2, 2, 2, 2, 2, 2,\n",
              "       2, 2, 2, 2, 2, 2, 2, 2, 2, 2, 2, 2, 2, 2, 2, 2, 2, 2])"
            ]
          },
          "metadata": {},
          "execution_count": 27
        }
      ]
    },
    {
      "cell_type": "code",
      "source": [
        "y = pd.get_dummies(y).values\n"
      ],
      "metadata": {
        "id": "A0hk7kRy0o3J"
      },
      "execution_count": null,
      "outputs": []
    },
    {
      "cell_type": "code",
      "source": [
        "y"
      ],
      "metadata": {
        "colab": {
          "base_uri": "https://localhost:8080/"
        },
        "id": "fA2iyBaM03wL",
        "outputId": "35b48fa6-64f5-419d-dd0b-818e80083218"
      },
      "execution_count": null,
      "outputs": [
        {
          "output_type": "execute_result",
          "data": {
            "text/plain": [
              "array([[1, 0, 0],\n",
              "       [1, 0, 0],\n",
              "       [1, 0, 0],\n",
              "       [1, 0, 0],\n",
              "       [1, 0, 0],\n",
              "       [1, 0, 0],\n",
              "       [1, 0, 0],\n",
              "       [1, 0, 0],\n",
              "       [1, 0, 0],\n",
              "       [1, 0, 0],\n",
              "       [1, 0, 0],\n",
              "       [1, 0, 0],\n",
              "       [1, 0, 0],\n",
              "       [1, 0, 0],\n",
              "       [1, 0, 0],\n",
              "       [1, 0, 0],\n",
              "       [1, 0, 0],\n",
              "       [1, 0, 0],\n",
              "       [1, 0, 0],\n",
              "       [1, 0, 0],\n",
              "       [1, 0, 0],\n",
              "       [1, 0, 0],\n",
              "       [1, 0, 0],\n",
              "       [1, 0, 0],\n",
              "       [1, 0, 0],\n",
              "       [1, 0, 0],\n",
              "       [1, 0, 0],\n",
              "       [1, 0, 0],\n",
              "       [1, 0, 0],\n",
              "       [1, 0, 0],\n",
              "       [1, 0, 0],\n",
              "       [1, 0, 0],\n",
              "       [1, 0, 0],\n",
              "       [1, 0, 0],\n",
              "       [1, 0, 0],\n",
              "       [1, 0, 0],\n",
              "       [1, 0, 0],\n",
              "       [1, 0, 0],\n",
              "       [1, 0, 0],\n",
              "       [1, 0, 0],\n",
              "       [1, 0, 0],\n",
              "       [1, 0, 0],\n",
              "       [1, 0, 0],\n",
              "       [1, 0, 0],\n",
              "       [1, 0, 0],\n",
              "       [1, 0, 0],\n",
              "       [1, 0, 0],\n",
              "       [1, 0, 0],\n",
              "       [1, 0, 0],\n",
              "       [1, 0, 0],\n",
              "       [0, 1, 0],\n",
              "       [0, 1, 0],\n",
              "       [0, 1, 0],\n",
              "       [0, 1, 0],\n",
              "       [0, 1, 0],\n",
              "       [0, 1, 0],\n",
              "       [0, 1, 0],\n",
              "       [0, 1, 0],\n",
              "       [0, 1, 0],\n",
              "       [0, 1, 0],\n",
              "       [0, 1, 0],\n",
              "       [0, 1, 0],\n",
              "       [0, 1, 0],\n",
              "       [0, 1, 0],\n",
              "       [0, 1, 0],\n",
              "       [0, 1, 0],\n",
              "       [0, 1, 0],\n",
              "       [0, 1, 0],\n",
              "       [0, 1, 0],\n",
              "       [0, 1, 0],\n",
              "       [0, 1, 0],\n",
              "       [0, 1, 0],\n",
              "       [0, 1, 0],\n",
              "       [0, 1, 0],\n",
              "       [0, 1, 0],\n",
              "       [0, 1, 0],\n",
              "       [0, 1, 0],\n",
              "       [0, 1, 0],\n",
              "       [0, 1, 0],\n",
              "       [0, 1, 0],\n",
              "       [0, 1, 0],\n",
              "       [0, 1, 0],\n",
              "       [0, 1, 0],\n",
              "       [0, 1, 0],\n",
              "       [0, 1, 0],\n",
              "       [0, 1, 0],\n",
              "       [0, 1, 0],\n",
              "       [0, 1, 0],\n",
              "       [0, 1, 0],\n",
              "       [0, 1, 0],\n",
              "       [0, 1, 0],\n",
              "       [0, 1, 0],\n",
              "       [0, 1, 0],\n",
              "       [0, 1, 0],\n",
              "       [0, 1, 0],\n",
              "       [0, 1, 0],\n",
              "       [0, 1, 0],\n",
              "       [0, 1, 0],\n",
              "       [0, 1, 0],\n",
              "       [0, 1, 0],\n",
              "       [0, 0, 1],\n",
              "       [0, 0, 1],\n",
              "       [0, 0, 1],\n",
              "       [0, 0, 1],\n",
              "       [0, 0, 1],\n",
              "       [0, 0, 1],\n",
              "       [0, 0, 1],\n",
              "       [0, 0, 1],\n",
              "       [0, 0, 1],\n",
              "       [0, 0, 1],\n",
              "       [0, 0, 1],\n",
              "       [0, 0, 1],\n",
              "       [0, 0, 1],\n",
              "       [0, 0, 1],\n",
              "       [0, 0, 1],\n",
              "       [0, 0, 1],\n",
              "       [0, 0, 1],\n",
              "       [0, 0, 1],\n",
              "       [0, 0, 1],\n",
              "       [0, 0, 1],\n",
              "       [0, 0, 1],\n",
              "       [0, 0, 1],\n",
              "       [0, 0, 1],\n",
              "       [0, 0, 1],\n",
              "       [0, 0, 1],\n",
              "       [0, 0, 1],\n",
              "       [0, 0, 1],\n",
              "       [0, 0, 1],\n",
              "       [0, 0, 1],\n",
              "       [0, 0, 1],\n",
              "       [0, 0, 1],\n",
              "       [0, 0, 1],\n",
              "       [0, 0, 1],\n",
              "       [0, 0, 1],\n",
              "       [0, 0, 1],\n",
              "       [0, 0, 1],\n",
              "       [0, 0, 1],\n",
              "       [0, 0, 1],\n",
              "       [0, 0, 1],\n",
              "       [0, 0, 1],\n",
              "       [0, 0, 1],\n",
              "       [0, 0, 1],\n",
              "       [0, 0, 1],\n",
              "       [0, 0, 1],\n",
              "       [0, 0, 1],\n",
              "       [0, 0, 1],\n",
              "       [0, 0, 1],\n",
              "       [0, 0, 1],\n",
              "       [0, 0, 1],\n",
              "       [0, 0, 1]], dtype=uint8)"
            ]
          },
          "metadata": {},
          "execution_count": 29
        }
      ]
    },
    {
      "cell_type": "code",
      "source": [
        "from sklearn.model_selection import train_test_split\n",
        "xtrain,xtest ,ytrain,ytest = train_test_split(x,y,random_state=0,stratify=y)"
      ],
      "metadata": {
        "id": "TR_1Fwwu1Ylw"
      },
      "execution_count": null,
      "outputs": []
    },
    {
      "cell_type": "code",
      "source": [
        "from keras.models import Sequential\n",
        "from keras.layers import Dense"
      ],
      "metadata": {
        "id": "XHJlLhDa1dir"
      },
      "execution_count": null,
      "outputs": []
    },
    {
      "cell_type": "code",
      "source": [
        "from tensorflow.python import metrics\n",
        "model = Sequential ()\n",
        "model.add(Dense(5,activation= 'relu',input_dim= 5))\n",
        "model.add(Dense(20,activation=tf.keras.activations.relu))\n",
        "model.add(Dense(30,activation= 'relu'))\n",
        "model.add(Dense(3,activation= 'softmax'))\n",
        "model.compile(optimizer = tf.keras.optimizers.Adam(learning_rate = 0.01),metrics = ['accuracy'],loss = 'categorical_crossentropy')"
      ],
      "metadata": {
        "id": "uj07LP0v1iH3"
      },
      "execution_count": null,
      "outputs": []
    },
    {
      "cell_type": "code",
      "source": [
        "hist = model.fit(xtrain,ytrain, epochs = 50 , batch_size = 32, validation_split = 0.2)"
      ],
      "metadata": {
        "colab": {
          "base_uri": "https://localhost:8080/"
        },
        "id": "RN5hoP3S2OuQ",
        "outputId": "f22a895b-8fc6-46c0-d0de-6e6f6ce5270b"
      },
      "execution_count": null,
      "outputs": [
        {
          "output_type": "stream",
          "name": "stdout",
          "text": [
            "Epoch 1/50\n",
            "3/3 [==============================] - 5s 112ms/step - loss: 8.3822 - accuracy: 0.3596 - val_loss: 3.2183 - val_accuracy: 0.3043\n",
            "Epoch 2/50\n",
            "3/3 [==============================] - 0s 24ms/step - loss: 3.3400 - accuracy: 0.3820 - val_loss: 3.4073 - val_accuracy: 0.3478\n",
            "Epoch 3/50\n",
            "3/3 [==============================] - 0s 18ms/step - loss: 2.7518 - accuracy: 0.3708 - val_loss: 4.2528 - val_accuracy: 0.3043\n",
            "Epoch 4/50\n",
            "3/3 [==============================] - 0s 16ms/step - loss: 2.5757 - accuracy: 0.4494 - val_loss: 1.6366 - val_accuracy: 0.3478\n",
            "Epoch 5/50\n",
            "3/3 [==============================] - 0s 16ms/step - loss: 0.9041 - accuracy: 0.5955 - val_loss: 1.0342 - val_accuracy: 0.5652\n",
            "Epoch 6/50\n",
            "3/3 [==============================] - 0s 16ms/step - loss: 0.9385 - accuracy: 0.4944 - val_loss: 0.7257 - val_accuracy: 0.5652\n",
            "Epoch 7/50\n",
            "3/3 [==============================] - 0s 22ms/step - loss: 0.6426 - accuracy: 0.6067 - val_loss: 0.8504 - val_accuracy: 0.5652\n",
            "Epoch 8/50\n",
            "3/3 [==============================] - 0s 22ms/step - loss: 0.5624 - accuracy: 0.6517 - val_loss: 0.6257 - val_accuracy: 0.7391\n",
            "Epoch 9/50\n",
            "3/3 [==============================] - 0s 24ms/step - loss: 0.4539 - accuracy: 0.7753 - val_loss: 0.3867 - val_accuracy: 0.9130\n",
            "Epoch 10/50\n",
            "3/3 [==============================] - 0s 30ms/step - loss: 0.3977 - accuracy: 0.8652 - val_loss: 0.3443 - val_accuracy: 0.7391\n",
            "Epoch 11/50\n",
            "3/3 [==============================] - 0s 22ms/step - loss: 0.3760 - accuracy: 0.8090 - val_loss: 0.2903 - val_accuracy: 0.9565\n",
            "Epoch 12/50\n",
            "3/3 [==============================] - 0s 23ms/step - loss: 0.3881 - accuracy: 0.7753 - val_loss: 0.4616 - val_accuracy: 0.6522\n",
            "Epoch 13/50\n",
            "3/3 [==============================] - 0s 30ms/step - loss: 0.4524 - accuracy: 0.7416 - val_loss: 0.3573 - val_accuracy: 0.7826\n",
            "Epoch 14/50\n",
            "3/3 [==============================] - 0s 27ms/step - loss: 0.2676 - accuracy: 0.9101 - val_loss: 0.3247 - val_accuracy: 0.8261\n",
            "Epoch 15/50\n",
            "3/3 [==============================] - 0s 21ms/step - loss: 0.3286 - accuracy: 0.8427 - val_loss: 0.3547 - val_accuracy: 0.8261\n",
            "Epoch 16/50\n",
            "3/3 [==============================] - 0s 26ms/step - loss: 0.2685 - accuracy: 0.8764 - val_loss: 0.2276 - val_accuracy: 0.9565\n",
            "Epoch 17/50\n",
            "3/3 [==============================] - 0s 22ms/step - loss: 0.2466 - accuracy: 0.9101 - val_loss: 0.2650 - val_accuracy: 0.8696\n",
            "Epoch 18/50\n",
            "3/3 [==============================] - 0s 22ms/step - loss: 0.2180 - accuracy: 0.9213 - val_loss: 0.2749 - val_accuracy: 0.8696\n",
            "Epoch 19/50\n",
            "3/3 [==============================] - 0s 28ms/step - loss: 0.2356 - accuracy: 0.8876 - val_loss: 0.2028 - val_accuracy: 0.9565\n",
            "Epoch 20/50\n",
            "3/3 [==============================] - 0s 21ms/step - loss: 0.2358 - accuracy: 0.8989 - val_loss: 0.2545 - val_accuracy: 0.8696\n",
            "Epoch 21/50\n",
            "3/3 [==============================] - 0s 21ms/step - loss: 0.1975 - accuracy: 0.9326 - val_loss: 0.2341 - val_accuracy: 0.9130\n",
            "Epoch 22/50\n",
            "3/3 [==============================] - 0s 31ms/step - loss: 0.2000 - accuracy: 0.9326 - val_loss: 0.2231 - val_accuracy: 0.9130\n",
            "Epoch 23/50\n",
            "3/3 [==============================] - 0s 30ms/step - loss: 0.1665 - accuracy: 0.9551 - val_loss: 0.1847 - val_accuracy: 0.9565\n",
            "Epoch 24/50\n",
            "3/3 [==============================] - 0s 25ms/step - loss: 0.1647 - accuracy: 0.9551 - val_loss: 0.1851 - val_accuracy: 0.8696\n",
            "Epoch 25/50\n",
            "3/3 [==============================] - 0s 29ms/step - loss: 0.1497 - accuracy: 0.9663 - val_loss: 0.1832 - val_accuracy: 0.9565\n",
            "Epoch 26/50\n",
            "3/3 [==============================] - 0s 29ms/step - loss: 0.1542 - accuracy: 0.9663 - val_loss: 0.1862 - val_accuracy: 0.9130\n",
            "Epoch 27/50\n",
            "3/3 [==============================] - 0s 21ms/step - loss: 0.1549 - accuracy: 0.9438 - val_loss: 0.1769 - val_accuracy: 0.9130\n",
            "Epoch 28/50\n",
            "3/3 [==============================] - 0s 29ms/step - loss: 0.1334 - accuracy: 0.9663 - val_loss: 0.1780 - val_accuracy: 0.9130\n",
            "Epoch 29/50\n",
            "3/3 [==============================] - 0s 21ms/step - loss: 0.1441 - accuracy: 0.9438 - val_loss: 0.1619 - val_accuracy: 0.9565\n",
            "Epoch 30/50\n",
            "3/3 [==============================] - 0s 21ms/step - loss: 0.1401 - accuracy: 0.9438 - val_loss: 0.1768 - val_accuracy: 0.9130\n",
            "Epoch 31/50\n",
            "3/3 [==============================] - 0s 21ms/step - loss: 0.1249 - accuracy: 0.9775 - val_loss: 0.1635 - val_accuracy: 0.9130\n",
            "Epoch 32/50\n",
            "3/3 [==============================] - 0s 26ms/step - loss: 0.1290 - accuracy: 0.9438 - val_loss: 0.1412 - val_accuracy: 0.9565\n",
            "Epoch 33/50\n",
            "3/3 [==============================] - 0s 25ms/step - loss: 0.1243 - accuracy: 0.9551 - val_loss: 0.1497 - val_accuracy: 0.9565\n",
            "Epoch 34/50\n",
            "3/3 [==============================] - 0s 22ms/step - loss: 0.1737 - accuracy: 0.8989 - val_loss: 0.1441 - val_accuracy: 0.9565\n",
            "Epoch 35/50\n",
            "3/3 [==============================] - 0s 22ms/step - loss: 0.1470 - accuracy: 0.9551 - val_loss: 0.1624 - val_accuracy: 0.9130\n",
            "Epoch 36/50\n",
            "3/3 [==============================] - 0s 22ms/step - loss: 0.2038 - accuracy: 0.9213 - val_loss: 0.1721 - val_accuracy: 0.9130\n",
            "Epoch 37/50\n",
            "3/3 [==============================] - 0s 22ms/step - loss: 0.1382 - accuracy: 0.9326 - val_loss: 0.1299 - val_accuracy: 0.9565\n",
            "Epoch 38/50\n",
            "3/3 [==============================] - 0s 27ms/step - loss: 0.1570 - accuracy: 0.9213 - val_loss: 0.1819 - val_accuracy: 0.8696\n",
            "Epoch 39/50\n",
            "3/3 [==============================] - 0s 25ms/step - loss: 0.0999 - accuracy: 0.9663 - val_loss: 0.1768 - val_accuracy: 0.9565\n",
            "Epoch 40/50\n",
            "3/3 [==============================] - 0s 23ms/step - loss: 0.1453 - accuracy: 0.9438 - val_loss: 0.1469 - val_accuracy: 0.9565\n",
            "Epoch 41/50\n",
            "3/3 [==============================] - 0s 22ms/step - loss: 0.1215 - accuracy: 0.9326 - val_loss: 0.1146 - val_accuracy: 0.9565\n",
            "Epoch 42/50\n",
            "3/3 [==============================] - 0s 26ms/step - loss: 0.1224 - accuracy: 0.9438 - val_loss: 0.1326 - val_accuracy: 0.9565\n",
            "Epoch 43/50\n",
            "3/3 [==============================] - 0s 24ms/step - loss: 0.0962 - accuracy: 0.9663 - val_loss: 0.1206 - val_accuracy: 0.9565\n",
            "Epoch 44/50\n",
            "3/3 [==============================] - 0s 28ms/step - loss: 0.1360 - accuracy: 0.9438 - val_loss: 0.1871 - val_accuracy: 0.9130\n",
            "Epoch 45/50\n",
            "3/3 [==============================] - 0s 29ms/step - loss: 0.1771 - accuracy: 0.8989 - val_loss: 0.1052 - val_accuracy: 0.9565\n",
            "Epoch 46/50\n",
            "3/3 [==============================] - 0s 29ms/step - loss: 0.1573 - accuracy: 0.9438 - val_loss: 0.1072 - val_accuracy: 0.9565\n",
            "Epoch 47/50\n",
            "3/3 [==============================] - 0s 21ms/step - loss: 0.0948 - accuracy: 0.9438 - val_loss: 0.1280 - val_accuracy: 0.9565\n",
            "Epoch 48/50\n",
            "3/3 [==============================] - 0s 29ms/step - loss: 0.0847 - accuracy: 1.0000 - val_loss: 0.1074 - val_accuracy: 0.9565\n",
            "Epoch 49/50\n",
            "3/3 [==============================] - 0s 25ms/step - loss: 0.0852 - accuracy: 0.9888 - val_loss: 0.1084 - val_accuracy: 0.9565\n",
            "Epoch 50/50\n",
            "3/3 [==============================] - 0s 29ms/step - loss: 0.0982 - accuracy: 0.9663 - val_loss: 0.0986 - val_accuracy: 0.9565\n"
          ]
        }
      ]
    },
    {
      "cell_type": "code",
      "source": [
        "ypred = model.predict(xtest)"
      ],
      "metadata": {
        "colab": {
          "base_uri": "https://localhost:8080/"
        },
        "id": "dRjUD61t3Kwf",
        "outputId": "84cff2f3-39f1-40ea-a580-45f5f4bd9125"
      },
      "execution_count": null,
      "outputs": [
        {
          "output_type": "stream",
          "name": "stdout",
          "text": [
            "2/2 [==============================] - 0s 12ms/step\n"
          ]
        }
      ]
    },
    {
      "cell_type": "code",
      "source": [
        "pred = np.argmax(ypred , axis =1)\n",
        "actual = np.argmax(ytest,axis =1)"
      ],
      "metadata": {
        "id": "jDj8i0n03-1I"
      },
      "execution_count": null,
      "outputs": []
    },
    {
      "cell_type": "code",
      "source": [],
      "metadata": {
        "colab": {
          "base_uri": "https://localhost:8080/",
          "height": 165
        },
        "id": "phLUn8w64QB1",
        "outputId": "4d2612ab-4032-4ae4-e9df-e1c9fb7f8734"
      },
      "execution_count": null,
      "outputs": [
        {
          "output_type": "error",
          "ename": "NameError",
          "evalue": "ignored",
          "traceback": [
            "\u001b[0;31m---------------------------------------------------------------------------\u001b[0m",
            "\u001b[0;31mNameError\u001b[0m                                 Traceback (most recent call last)",
            "\u001b[0;32m<ipython-input-38-db630d2b38aa>\u001b[0m in \u001b[0;36m<module>\u001b[0;34m\u001b[0m\n\u001b[0;32m----> 1\u001b[0;31m \u001b[0maccuracy_score\u001b[0m\u001b[0;34m(\u001b[0m\u001b[0mpred\u001b[0m\u001b[0;34m,\u001b[0m\u001b[0mactual\u001b[0m\u001b[0;34m)\u001b[0m\u001b[0;34m\u001b[0m\u001b[0;34m\u001b[0m\u001b[0m\n\u001b[0m",
            "\u001b[0;31mNameError\u001b[0m: name 'accuracy_score' is not defined"
          ]
        }
      ]
    },
    {
      "cell_type": "code",
      "source": [],
      "metadata": {
        "id": "BE4rdOLV4Y_d"
      },
      "execution_count": null,
      "outputs": []
    }
  ]
}